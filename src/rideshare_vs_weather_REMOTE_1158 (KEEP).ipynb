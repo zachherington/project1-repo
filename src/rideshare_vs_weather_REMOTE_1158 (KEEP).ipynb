{
 "cells": [
  {
   "cell_type": "code",
   "execution_count": 2,
   "metadata": {},
   "outputs": [],
   "source": [
    "# Dependencies and Setup\n",
    "import matplotlib.pyplot as plt\n",
    "import pandas as pd\n",
    "import numpy as np\n",
    "import requests\n",
    "import gmaps\n",
    "import os\n",
    "import json\n",
    "from scipy.stats import linregress\n",
    "\n",
    "# Import API keys\n",
    "from api_keys import g_key\n",
    "from api_keys import meteostat_api_key\n",
    "# from api_keys import open_cage_api_key\n",
    "\n",
    "gmaps.configure(api_key=g_key)"
   ]
  },
  {
   "cell_type": "markdown",
   "metadata": {},
   "source": [
    "# Taxi Data\n",
    "* Read CSV\n",
    "* Ride volume by day\n",
    "* Ride volume by Neighborhood\n",
    "* Avg Ride volume by month\n",
    "\n"
   ]
  },
  {
   "cell_type": "markdown",
   "metadata": {},
   "source": [
    "### Read CSV file"
   ]
  },
  {
   "cell_type": "code",
   "execution_count": 3,
   "metadata": {},
   "outputs": [
    {
     "ename": "FileNotFoundError",
     "evalue": "[Errno 2] File ../resources/taxi_data/nyc_pickup_zones.csv does not exist: '../resources/taxi_data/nyc_pickup_zones.csv'",
     "output_type": "error",
     "traceback": [
      "\u001b[1;31m---------------------------------------------------------------------------\u001b[0m",
      "\u001b[1;31mFileNotFoundError\u001b[0m                         Traceback (most recent call last)",
      "\u001b[1;32m<ipython-input-3-a08250e1e529>\u001b[0m in \u001b[0;36m<module>\u001b[1;34m\u001b[0m\n\u001b[0;32m      9\u001b[0m \u001b[1;31m# Contains each official Taxi Pickup Zone in NYC\u001b[0m\u001b[1;33m\u001b[0m\u001b[1;33m\u001b[0m\u001b[1;33m\u001b[0m\u001b[0m\n\u001b[0;32m     10\u001b[0m \u001b[1;33m\u001b[0m\u001b[0m\n\u001b[1;32m---> 11\u001b[1;33m \u001b[0mpickup_zone_data\u001b[0m \u001b[1;33m=\u001b[0m \u001b[0mpd\u001b[0m\u001b[1;33m.\u001b[0m\u001b[0mread_csv\u001b[0m\u001b[1;33m(\u001b[0m\u001b[1;34m\"../resources/taxi_data/nyc_pickup_zones.csv\"\u001b[0m\u001b[1;33m)\u001b[0m\u001b[1;33m\u001b[0m\u001b[1;33m\u001b[0m\u001b[0m\n\u001b[0m\u001b[0;32m     12\u001b[0m \u001b[0mpickup_zone_data\u001b[0m \u001b[1;33m=\u001b[0m \u001b[0mpickup_zone_data\u001b[0m\u001b[1;33m.\u001b[0m\u001b[0mrename\u001b[0m\u001b[1;33m(\u001b[0m\u001b[0mcolumns\u001b[0m\u001b[1;33m=\u001b[0m\u001b[1;33m{\u001b[0m\u001b[1;34m'OBJECTID'\u001b[0m\u001b[1;33m:\u001b[0m \u001b[1;34m'PULocationID'\u001b[0m\u001b[1;33m}\u001b[0m\u001b[1;33m)\u001b[0m\u001b[1;33m\u001b[0m\u001b[1;33m\u001b[0m\u001b[0m\n\u001b[0;32m     13\u001b[0m \u001b[1;33m\u001b[0m\u001b[0m\n",
      "\u001b[1;32mC:\\datavizZH\\DViz_Programs\\Anaconda3\\envs\\PythonData\\lib\\site-packages\\pandas\\io\\parsers.py\u001b[0m in \u001b[0;36mparser_f\u001b[1;34m(filepath_or_buffer, sep, delimiter, header, names, index_col, usecols, squeeze, prefix, mangle_dupe_cols, dtype, engine, converters, true_values, false_values, skipinitialspace, skiprows, skipfooter, nrows, na_values, keep_default_na, na_filter, verbose, skip_blank_lines, parse_dates, infer_datetime_format, keep_date_col, date_parser, dayfirst, cache_dates, iterator, chunksize, compression, thousands, decimal, lineterminator, quotechar, quoting, doublequote, escapechar, comment, encoding, dialect, error_bad_lines, warn_bad_lines, delim_whitespace, low_memory, memory_map, float_precision)\u001b[0m\n\u001b[0;32m    674\u001b[0m         )\n\u001b[0;32m    675\u001b[0m \u001b[1;33m\u001b[0m\u001b[0m\n\u001b[1;32m--> 676\u001b[1;33m         \u001b[1;32mreturn\u001b[0m \u001b[0m_read\u001b[0m\u001b[1;33m(\u001b[0m\u001b[0mfilepath_or_buffer\u001b[0m\u001b[1;33m,\u001b[0m \u001b[0mkwds\u001b[0m\u001b[1;33m)\u001b[0m\u001b[1;33m\u001b[0m\u001b[1;33m\u001b[0m\u001b[0m\n\u001b[0m\u001b[0;32m    677\u001b[0m \u001b[1;33m\u001b[0m\u001b[0m\n\u001b[0;32m    678\u001b[0m     \u001b[0mparser_f\u001b[0m\u001b[1;33m.\u001b[0m\u001b[0m__name__\u001b[0m \u001b[1;33m=\u001b[0m \u001b[0mname\u001b[0m\u001b[1;33m\u001b[0m\u001b[1;33m\u001b[0m\u001b[0m\n",
      "\u001b[1;32mC:\\datavizZH\\DViz_Programs\\Anaconda3\\envs\\PythonData\\lib\\site-packages\\pandas\\io\\parsers.py\u001b[0m in \u001b[0;36m_read\u001b[1;34m(filepath_or_buffer, kwds)\u001b[0m\n\u001b[0;32m    446\u001b[0m \u001b[1;33m\u001b[0m\u001b[0m\n\u001b[0;32m    447\u001b[0m     \u001b[1;31m# Create the parser.\u001b[0m\u001b[1;33m\u001b[0m\u001b[1;33m\u001b[0m\u001b[1;33m\u001b[0m\u001b[0m\n\u001b[1;32m--> 448\u001b[1;33m     \u001b[0mparser\u001b[0m \u001b[1;33m=\u001b[0m \u001b[0mTextFileReader\u001b[0m\u001b[1;33m(\u001b[0m\u001b[0mfp_or_buf\u001b[0m\u001b[1;33m,\u001b[0m \u001b[1;33m**\u001b[0m\u001b[0mkwds\u001b[0m\u001b[1;33m)\u001b[0m\u001b[1;33m\u001b[0m\u001b[1;33m\u001b[0m\u001b[0m\n\u001b[0m\u001b[0;32m    449\u001b[0m \u001b[1;33m\u001b[0m\u001b[0m\n\u001b[0;32m    450\u001b[0m     \u001b[1;32mif\u001b[0m \u001b[0mchunksize\u001b[0m \u001b[1;32mor\u001b[0m \u001b[0miterator\u001b[0m\u001b[1;33m:\u001b[0m\u001b[1;33m\u001b[0m\u001b[1;33m\u001b[0m\u001b[0m\n",
      "\u001b[1;32mC:\\datavizZH\\DViz_Programs\\Anaconda3\\envs\\PythonData\\lib\\site-packages\\pandas\\io\\parsers.py\u001b[0m in \u001b[0;36m__init__\u001b[1;34m(self, f, engine, **kwds)\u001b[0m\n\u001b[0;32m    878\u001b[0m             \u001b[0mself\u001b[0m\u001b[1;33m.\u001b[0m\u001b[0moptions\u001b[0m\u001b[1;33m[\u001b[0m\u001b[1;34m\"has_index_names\"\u001b[0m\u001b[1;33m]\u001b[0m \u001b[1;33m=\u001b[0m \u001b[0mkwds\u001b[0m\u001b[1;33m[\u001b[0m\u001b[1;34m\"has_index_names\"\u001b[0m\u001b[1;33m]\u001b[0m\u001b[1;33m\u001b[0m\u001b[1;33m\u001b[0m\u001b[0m\n\u001b[0;32m    879\u001b[0m \u001b[1;33m\u001b[0m\u001b[0m\n\u001b[1;32m--> 880\u001b[1;33m         \u001b[0mself\u001b[0m\u001b[1;33m.\u001b[0m\u001b[0m_make_engine\u001b[0m\u001b[1;33m(\u001b[0m\u001b[0mself\u001b[0m\u001b[1;33m.\u001b[0m\u001b[0mengine\u001b[0m\u001b[1;33m)\u001b[0m\u001b[1;33m\u001b[0m\u001b[1;33m\u001b[0m\u001b[0m\n\u001b[0m\u001b[0;32m    881\u001b[0m \u001b[1;33m\u001b[0m\u001b[0m\n\u001b[0;32m    882\u001b[0m     \u001b[1;32mdef\u001b[0m \u001b[0mclose\u001b[0m\u001b[1;33m(\u001b[0m\u001b[0mself\u001b[0m\u001b[1;33m)\u001b[0m\u001b[1;33m:\u001b[0m\u001b[1;33m\u001b[0m\u001b[1;33m\u001b[0m\u001b[0m\n",
      "\u001b[1;32mC:\\datavizZH\\DViz_Programs\\Anaconda3\\envs\\PythonData\\lib\\site-packages\\pandas\\io\\parsers.py\u001b[0m in \u001b[0;36m_make_engine\u001b[1;34m(self, engine)\u001b[0m\n\u001b[0;32m   1112\u001b[0m     \u001b[1;32mdef\u001b[0m \u001b[0m_make_engine\u001b[0m\u001b[1;33m(\u001b[0m\u001b[0mself\u001b[0m\u001b[1;33m,\u001b[0m \u001b[0mengine\u001b[0m\u001b[1;33m=\u001b[0m\u001b[1;34m\"c\"\u001b[0m\u001b[1;33m)\u001b[0m\u001b[1;33m:\u001b[0m\u001b[1;33m\u001b[0m\u001b[1;33m\u001b[0m\u001b[0m\n\u001b[0;32m   1113\u001b[0m         \u001b[1;32mif\u001b[0m \u001b[0mengine\u001b[0m \u001b[1;33m==\u001b[0m \u001b[1;34m\"c\"\u001b[0m\u001b[1;33m:\u001b[0m\u001b[1;33m\u001b[0m\u001b[1;33m\u001b[0m\u001b[0m\n\u001b[1;32m-> 1114\u001b[1;33m             \u001b[0mself\u001b[0m\u001b[1;33m.\u001b[0m\u001b[0m_engine\u001b[0m \u001b[1;33m=\u001b[0m \u001b[0mCParserWrapper\u001b[0m\u001b[1;33m(\u001b[0m\u001b[0mself\u001b[0m\u001b[1;33m.\u001b[0m\u001b[0mf\u001b[0m\u001b[1;33m,\u001b[0m \u001b[1;33m**\u001b[0m\u001b[0mself\u001b[0m\u001b[1;33m.\u001b[0m\u001b[0moptions\u001b[0m\u001b[1;33m)\u001b[0m\u001b[1;33m\u001b[0m\u001b[1;33m\u001b[0m\u001b[0m\n\u001b[0m\u001b[0;32m   1115\u001b[0m         \u001b[1;32melse\u001b[0m\u001b[1;33m:\u001b[0m\u001b[1;33m\u001b[0m\u001b[1;33m\u001b[0m\u001b[0m\n\u001b[0;32m   1116\u001b[0m             \u001b[1;32mif\u001b[0m \u001b[0mengine\u001b[0m \u001b[1;33m==\u001b[0m \u001b[1;34m\"python\"\u001b[0m\u001b[1;33m:\u001b[0m\u001b[1;33m\u001b[0m\u001b[1;33m\u001b[0m\u001b[0m\n",
      "\u001b[1;32mC:\\datavizZH\\DViz_Programs\\Anaconda3\\envs\\PythonData\\lib\\site-packages\\pandas\\io\\parsers.py\u001b[0m in \u001b[0;36m__init__\u001b[1;34m(self, src, **kwds)\u001b[0m\n\u001b[0;32m   1889\u001b[0m         \u001b[0mkwds\u001b[0m\u001b[1;33m[\u001b[0m\u001b[1;34m\"usecols\"\u001b[0m\u001b[1;33m]\u001b[0m \u001b[1;33m=\u001b[0m \u001b[0mself\u001b[0m\u001b[1;33m.\u001b[0m\u001b[0musecols\u001b[0m\u001b[1;33m\u001b[0m\u001b[1;33m\u001b[0m\u001b[0m\n\u001b[0;32m   1890\u001b[0m \u001b[1;33m\u001b[0m\u001b[0m\n\u001b[1;32m-> 1891\u001b[1;33m         \u001b[0mself\u001b[0m\u001b[1;33m.\u001b[0m\u001b[0m_reader\u001b[0m \u001b[1;33m=\u001b[0m \u001b[0mparsers\u001b[0m\u001b[1;33m.\u001b[0m\u001b[0mTextReader\u001b[0m\u001b[1;33m(\u001b[0m\u001b[0msrc\u001b[0m\u001b[1;33m,\u001b[0m \u001b[1;33m**\u001b[0m\u001b[0mkwds\u001b[0m\u001b[1;33m)\u001b[0m\u001b[1;33m\u001b[0m\u001b[1;33m\u001b[0m\u001b[0m\n\u001b[0m\u001b[0;32m   1892\u001b[0m         \u001b[0mself\u001b[0m\u001b[1;33m.\u001b[0m\u001b[0munnamed_cols\u001b[0m \u001b[1;33m=\u001b[0m \u001b[0mself\u001b[0m\u001b[1;33m.\u001b[0m\u001b[0m_reader\u001b[0m\u001b[1;33m.\u001b[0m\u001b[0munnamed_cols\u001b[0m\u001b[1;33m\u001b[0m\u001b[1;33m\u001b[0m\u001b[0m\n\u001b[0;32m   1893\u001b[0m \u001b[1;33m\u001b[0m\u001b[0m\n",
      "\u001b[1;32mpandas\\_libs\\parsers.pyx\u001b[0m in \u001b[0;36mpandas._libs.parsers.TextReader.__cinit__\u001b[1;34m()\u001b[0m\n",
      "\u001b[1;32mpandas\\_libs\\parsers.pyx\u001b[0m in \u001b[0;36mpandas._libs.parsers.TextReader._setup_parser_source\u001b[1;34m()\u001b[0m\n",
      "\u001b[1;31mFileNotFoundError\u001b[0m: [Errno 2] File ../resources/taxi_data/nyc_pickup_zones.csv does not exist: '../resources/taxi_data/nyc_pickup_zones.csv'"
     ]
    }
   ],
   "source": [
    "#importing Yellow Cab Taxi Ride data from .csv\n",
    "# PULocationID = Pickup Location ID\n",
    "# DOLocationID = Drop-off Location ID\n",
    "\n",
    "# Contains the info for every taxi cab ride in New York City in January 2019\n",
    "\n",
    "taxi_data = pd.read_csv(\"../resources/taxi_data/combined_months.csv\")\n",
    "\n",
    "# Contains each official Taxi Pickup Zone in NYC \n",
    "\n",
    "pickup_zone_data = pd.read_csv(\"../resources/taxi_data/nyc_pickup_zones.csv\")\n",
    "pickup_zone_data = pickup_zone_data.rename(columns={'OBJECTID': 'PULocationID'})\n",
    "\n",
    "# Neighborhood Data\n",
    "\n",
    "with open(\"../resources/taxi_data/neighborhoods.json\") as json_data:\n",
    "    neighborhood_data = json.load(json_data)\n",
    "    \n"
   ]
  },
  {
   "cell_type": "code",
   "execution_count": null,
   "metadata": {},
   "outputs": [],
   "source": [
    "# Setting up the Latitude and Longitude empty columns will pull these coordinates from Neighborhood Data\n",
    "taxi_data['Latitude'] =\"\"\n",
    "taxi_data['Longitude'] =\"\"\n",
    "\n",
    "# Merging the 'taxi_data' and 'pickup_zone_data' on PULocationID (aka Zone ID)\n",
    "# This is essentially grabbing the PULocationID from 'taxi_data' and finding it's name in 'pickup_zone_data'\n",
    "merged_taxi_zones = pd.merge(taxi_data,pickup_zone_data, how='inner',on=\"PULocationID\")\n",
    "\n",
    "\n",
    "\n",
    "# Filtering the 'merged_taxi_zones' dataframe so it only include rides that happened in Manhattan\n",
    "manhattan_taxi_zones = merged_taxi_zones[(merged_taxi_zones['borough']=='Manhattan')]\n",
    "\n",
    "\n",
    "# counting the number of pickups in each pickup zone\n",
    "\n",
    "\n",
    "\n",
    "#manhattan_taxi_zones.head(100)\n",
    "\n",
    "# manhattan_taxi_zones['tpep_pickup_datetime'] = pd.to_datetime(manhattan_taxi_zones['tpep_pickup_datetime'])\n",
    "\n",
    "manhattan_taxi_zones.loc[:,'tpep_pickup_datetime'] = pd.to_datetime(manhattan_taxi_zones['tpep_pickup_datetime']).dt.date\n",
    "\n",
    "manhattan_taxi_zones.sort_values(by='tpep_pickup_datetime', ascending=False)\n",
    "\n",
    "\n",
    "manhattan_taxi_zones"
   ]
  },
  {
   "cell_type": "markdown",
   "metadata": {},
   "source": [
    "### Import Lat/Lng for each pickup zone\n"
   ]
  },
  {
   "cell_type": "code",
   "execution_count": null,
   "metadata": {},
   "outputs": [],
   "source": [
    "#neighborhood_data['features'][0]['geometry']['coordinates']\n",
    "\n",
    "\n",
    "# Returns neighborhood\n",
    "\n",
    "# manhattan_taxi_zones.set_index(\"zone\",inplace = True)\n",
    "\n",
    "# manhattan_taxi_zones\n",
    "\n",
    "# coords_list = []\n",
    "\n",
    "\n",
    "# for index, column in manhattan_taxi_zones.iterrows():\n",
    "#     neighbohood_name = neighborhood_data['features'][0]['properties']['name']\n",
    "#     coords = neighborhood_data['features'][0]['geometry']['coordinates']\n",
    "    \n",
    "#     try:\n",
    "#         coords_list.append(neighbohood_name)\n",
    "#         print(f\"Coords: {neighbohood_name}\")\n",
    "#     except:\n",
    "#         coords_list.append(\"Not found, try changing name\")\n",
    "#     continue\n",
    "\n",
    "\n",
    "    \n"
   ]
  },
  {
   "cell_type": "markdown",
   "metadata": {},
   "source": [
    "### Ride Volume By Day\n"
   ]
  },
  {
   "cell_type": "code",
   "execution_count": null,
   "metadata": {},
   "outputs": [],
   "source": [
    "ride_volume_per_day = manhattan_taxi_zones[\"tpep_pickup_datetime\"].value_counts()\n",
    "ride_volume_per_day_df = pd.DataFrame(ride_volume_per_day)\n",
    "ride_volume_per_day_dfreset = ride_volume_per_day_df.reset_index()\n",
    "\n",
    "\n",
    "# plt.figure(figsize=(16,3))\n",
    "# ride_volume_per_day.plot.line()\n",
    "\n",
    "ride_volume_per_day_dfrename = ride_volume_per_day_dfreset.rename(columns = {'index': 'Date', 'tpep_pickup_datetime': 'Ride Volume'})\n",
    "ride_volume_per_day_dfrename.sort_values('Date').head(50)"
   ]
  },
  {
   "cell_type": "markdown",
   "metadata": {},
   "source": [
    "### Ride Volume By Neighborhood\n"
   ]
  },
  {
   "cell_type": "code",
   "execution_count": 147,
   "metadata": {
    "scrolled": true
   },
   "outputs": [
    {
     "data": {
      "text/plain": [
       "Text(0, 0.5, 'Neighbhorhood')"
      ]
     },
     "execution_count": 147,
     "metadata": {},
     "output_type": "execute_result"
    },
    {
     "data": {
      "image/png": "[encoded data removed]",
      "text/plain": [
       "<Figure size 432x288 with 1 Axes>"
      ]
     },
     "metadata": {
      "needs_background": "light"
     },
     "output_type": "display_data"
    }
   ],
   "source": [
    "zone_count = manhattan_taxi_zones['zone'].value_counts()\n",
    "neighborhood_count = pd.DataFrame(zone_count).reset_index()\n",
    "neighborhood_count.columns = ['Neighborhood','Rides']\n",
    "\n",
    "neighborhood_count\n",
    "\n",
    "zone_count\n",
    "\n",
    "\n",
    "x_axis = neighborhood_count['Neighborhood']\n",
    "y_axis = neighborhood_count['Rides']\n",
    "\n",
    "\n",
    "neighborhood_count\n",
    "count_status = pd.value_counts(manhattan_taxi_zones['zone'])\n",
    "plt.bar(x_axis, y_axis, facecolor=\"red\", alpha=0.95, align=\"center\")\n",
    "plt.title(\"NYC Taxi Cab Pickups Per Neighborhood\")\n",
    "plt.xlabel(\"Taxi Pickups\")\n",
    "plt.ylabel(\"Neighbhorhood\")\n",
    "\n"
   ]
  },
  {
   "cell_type": "markdown",
   "metadata": {},
   "source": [
    "### Avg Ride Volume by Month"
   ]
  },
  {
   "cell_type": "code",
   "execution_count": 202,
   "metadata": {},
   "outputs": [
    {
     "data": {
      "text/html": [
       "<div>\n",
       "<style scoped>\n",
       "    .dataframe tbody tr th:only-of-type {\n",
       "        vertical-align: middle;\n",
       "    }\n",
       "\n",
       "    .dataframe tbody tr th {\n",
       "        vertical-align: top;\n",
       "    }\n",
       "\n",
       "    .dataframe thead th {\n",
       "        text-align: right;\n",
       "    }\n",
       "</style>\n",
       "<table border=\"1\" class=\"dataframe\">\n",
       "  <thead>\n",
       "    <tr style=\"text-align: right;\">\n",
       "      <th></th>\n",
       "      <th>Avg Ride Volume</th>\n",
       "    </tr>\n",
       "    <tr>\n",
       "      <th>month</th>\n",
       "      <th></th>\n",
       "    </tr>\n",
       "  </thead>\n",
       "  <tbody>\n",
       "    <tr>\n",
       "      <th>1</th>\n",
       "      <td>2921.0</td>\n",
       "    </tr>\n",
       "    <tr>\n",
       "      <th>2</th>\n",
       "      <td>3256.0</td>\n",
       "    </tr>\n",
       "    <tr>\n",
       "      <th>3</th>\n",
       "      <td>2937.0</td>\n",
       "    </tr>\n",
       "    <tr>\n",
       "      <th>4</th>\n",
       "      <td>3027.0</td>\n",
       "    </tr>\n",
       "    <tr>\n",
       "      <th>5</th>\n",
       "      <td>2923.0</td>\n",
       "    </tr>\n",
       "    <tr>\n",
       "      <th>6</th>\n",
       "      <td>3008.0</td>\n",
       "    </tr>\n",
       "  </tbody>\n",
       "</table>\n",
       "</div>"
      ],
      "text/plain": [
       "       Avg Ride Volume\n",
       "month                 \n",
       "1               2921.0\n",
       "2               3256.0\n",
       "3               2937.0\n",
       "4               3027.0\n",
       "5               2923.0\n",
       "6               3008.0"
      ]
     },
     "execution_count": 202,
     "metadata": {},
     "output_type": "execute_result"
    }
   ],
   "source": [
    "\n",
    "ride_volume_per_day_dfrename['month'] = pd.DatetimeIndex(ride_volume_per_day_dfrename['Date']).month\n",
    "avg_vol_month = round(ride_volume_per_day_dfrename.groupby(['month']).mean(),0)\n",
    "avg_vol_month = avg_vol_month.rename(columns = {'Ride Volume': 'Avg Ride Volume'})\n",
    "avg_vol_month"
   ]
  },
  {
   "cell_type": "markdown",
   "metadata": {},
   "source": [
    "# Weather Data\n",
    "* Top 10 Days for each Weather type (Rain, Snow, Tmax, Tmin, Wind)\n",
    "* Create DF with all the days above removed (normal weather)\n",
    "* Visuals to show above"
   ]
  },
  {
   "cell_type": "code",
   "execution_count": 203,
   "metadata": {},
   "outputs": [],
   "source": [
    "# Read in the Weather CVS data\n",
    "weather_path = \"../resources/weather_data/ny_weather_0119-0619.csv\"\n",
    "weather_data = pd.read_csv(weather_path)\n",
    "weather_data_cleaned = weather_data.drop(columns = ['Unnamed: 0', 'Avg Temp', 'Wind Direction', 'Wind Peak Gust', 'Air Pressure', 'Total Sun Duration'])\n",
    "\n"
   ]
  },
  {
   "cell_type": "code",
   "execution_count": 220,
   "metadata": {},
   "outputs": [
    {
     "name": "stderr",
     "output_type": "stream",
     "text": [
      "C:\\datavizZH\\DViz_Programs\\Anaconda3\\envs\\PythonData\\lib\\site-packages\\ipykernel_launcher.py:5: SettingWithCopyWarning: \n",
      "A value is trying to be set on a copy of a slice from a DataFrame.\n",
      "Try using .loc[row_indexer,col_indexer] = value instead\n",
      "\n",
      "See the caveats in the documentation: https://pandas.pydata.org/pandas-docs/stable/user_guide/indexing.html#returning-a-view-versus-a-copy\n",
      "  \"\"\"\n",
      "C:\\datavizZH\\DViz_Programs\\Anaconda3\\envs\\PythonData\\lib\\site-packages\\ipykernel_launcher.py:12: SettingWithCopyWarning: \n",
      "A value is trying to be set on a copy of a slice from a DataFrame.\n",
      "Try using .loc[row_indexer,col_indexer] = value instead\n",
      "\n",
      "See the caveats in the documentation: https://pandas.pydata.org/pandas-docs/stable/user_guide/indexing.html#returning-a-view-versus-a-copy\n",
      "  if sys.path[0] == '':\n",
      "C:\\datavizZH\\DViz_Programs\\Anaconda3\\envs\\PythonData\\lib\\site-packages\\ipykernel_launcher.py:19: SettingWithCopyWarning: \n",
      "A value is trying to be set on a copy of a slice from a DataFrame.\n",
      "Try using .loc[row_indexer,col_indexer] = value instead\n",
      "\n",
      "See the caveats in the documentation: https://pandas.pydata.org/pandas-docs/stable/user_guide/indexing.html#returning-a-view-versus-a-copy\n"
     ]
    },
    {
     "data": {
      "text/html": [
       "<div>\n",
       "<style scoped>\n",
       "    .dataframe tbody tr th:only-of-type {\n",
       "        vertical-align: middle;\n",
       "    }\n",
       "\n",
       "    .dataframe tbody tr th {\n",
       "        vertical-align: top;\n",
       "    }\n",
       "\n",
       "    .dataframe thead th {\n",
       "        text-align: right;\n",
       "    }\n",
       "</style>\n",
       "<table border=\"1\" class=\"dataframe\">\n",
       "  <thead>\n",
       "    <tr style=\"text-align: right;\">\n",
       "      <th></th>\n",
       "      <th>Date</th>\n",
       "      <th>Precipitation</th>\n",
       "    </tr>\n",
       "  </thead>\n",
       "  <tbody>\n",
       "    <tr>\n",
       "      <th>0</th>\n",
       "      <td>2019-05-05</td>\n",
       "      <td>38.9</td>\n",
       "    </tr>\n",
       "    <tr>\n",
       "      <th>1</th>\n",
       "      <td>2019-05-12</td>\n",
       "      <td>37.6</td>\n",
       "    </tr>\n",
       "    <tr>\n",
       "      <th>2</th>\n",
       "      <td>2019-01-20</td>\n",
       "      <td>27.2</td>\n",
       "    </tr>\n",
       "    <tr>\n",
       "      <th>3</th>\n",
       "      <td>2019-03-21</td>\n",
       "      <td>25.4</td>\n",
       "    </tr>\n",
       "    <tr>\n",
       "      <th>4</th>\n",
       "      <td>2019-04-15</td>\n",
       "      <td>25.4</td>\n",
       "    </tr>\n",
       "    <tr>\n",
       "      <th>5</th>\n",
       "      <td>2019-01-24</td>\n",
       "      <td>24.9</td>\n",
       "    </tr>\n",
       "    <tr>\n",
       "      <th>6</th>\n",
       "      <td>2019-02-20</td>\n",
       "      <td>21.6</td>\n",
       "    </tr>\n",
       "    <tr>\n",
       "      <th>7</th>\n",
       "      <td>2019-05-13</td>\n",
       "      <td>21.3</td>\n",
       "    </tr>\n",
       "    <tr>\n",
       "      <th>8</th>\n",
       "      <td>2019-02-12</td>\n",
       "      <td>20.6</td>\n",
       "    </tr>\n",
       "    <tr>\n",
       "      <th>9</th>\n",
       "      <td>2019-02-24</td>\n",
       "      <td>20.6</td>\n",
       "    </tr>\n",
       "  </tbody>\n",
       "</table>\n",
       "</div>"
      ],
      "text/plain": [
       "         Date  Precipitation\n",
       "0  2019-05-05           38.9\n",
       "1  2019-05-12           37.6\n",
       "2  2019-01-20           27.2\n",
       "3  2019-03-21           25.4\n",
       "4  2019-04-15           25.4\n",
       "5  2019-01-24           24.9\n",
       "6  2019-02-20           21.6\n",
       "7  2019-05-13           21.3\n",
       "8  2019-02-12           20.6\n",
       "9  2019-02-24           20.6"
      ]
     },
     "execution_count": 220,
     "metadata": {},
     "output_type": "execute_result"
    }
   ],
   "source": [
    "# Show 10 Lowest Min Temps\n",
    "sort_min_temp = weather_data_cleaned.sort_values(by=['Min Temp'], ascending=True).reset_index(drop=True)\n",
    "top_10_min_temp = sort_min_temp.head(10)\n",
    "\n",
    "top_10_min_temp['Date'] = pd.to_datetime(top_10_min_temp.date).dt.date\n",
    "min_temp_df = pd.DataFrame(top_10_min_temp[['Date','Min Temp']])\n",
    "\n",
    "# Show 10 Highest Max Temps\n",
    "sort_max_temp = weather_data_cleaned.sort_values(by=['Max Temp'], ascending=False).reset_index(drop=True)\n",
    "top_10_max_temp = sort_max_temp.head(10)\n",
    "\n",
    "top_10_max_temp['Date'] = pd.to_datetime(top_10_max_temp.date).dt.date\n",
    "max_temp_df = pd.DataFrame(top_10_max_temp[['Date','Max Temp']])\n",
    "\n",
    "# Show 10 Highest Rains\n",
    "sort_rain = weather_data_cleaned.sort_values(by=['Precipitation'], ascending=False).reset_index(drop=True)\n",
    "top_10_rain = sort_rain.head(10)\n",
    "\n",
    "top_10_rain['Date'] = pd.to_datetime(top_10_rain.date).dt.date\n",
    "max_rain_df = pd.DataFrame(top_10_rain[['Date','Precipitation']])\n",
    "\n",
    "min_temp_df\n",
    "max_temp_df\n",
    "max_rain_df"
   ]
  },
  {
   "cell_type": "markdown",
   "metadata": {},
   "source": [
    "# Taxi Ride Volume vs Weather\n",
    "* Ride volume for each day in each Top 10 weather types\n",
    "* Average ride volume for \"normal weather\" days for each month\n",
    "* Difference in Top 10 ride volumes vs \"normal weather\" ride volumes for the month that \n"
   ]
  },
  {
   "cell_type": "code",
   "execution_count": 221,
   "metadata": {},
   "outputs": [
    {
     "data": {
      "text/html": [
       "<div>\n",
       "<style scoped>\n",
       "    .dataframe tbody tr th:only-of-type {\n",
       "        vertical-align: middle;\n",
       "    }\n",
       "\n",
       "    .dataframe tbody tr th {\n",
       "        vertical-align: top;\n",
       "    }\n",
       "\n",
       "    .dataframe thead th {\n",
       "        text-align: right;\n",
       "    }\n",
       "</style>\n",
       "<table border=\"1\" class=\"dataframe\">\n",
       "  <thead>\n",
       "    <tr style=\"text-align: right;\">\n",
       "      <th></th>\n",
       "      <th>Date</th>\n",
       "      <th>Precipitation</th>\n",
       "      <th>Ride Volume</th>\n",
       "      <th>month</th>\n",
       "      <th>Avg Ride Volume</th>\n",
       "      <th>% Change in Rides</th>\n",
       "    </tr>\n",
       "  </thead>\n",
       "  <tbody>\n",
       "    <tr>\n",
       "      <th>0</th>\n",
       "      <td>2019-05-05</td>\n",
       "      <td>38.9</td>\n",
       "      <td>2767</td>\n",
       "      <td>5</td>\n",
       "      <td>2923.0</td>\n",
       "      <td>-5.336983</td>\n",
       "    </tr>\n",
       "    <tr>\n",
       "      <th>1</th>\n",
       "      <td>2019-05-12</td>\n",
       "      <td>37.6</td>\n",
       "      <td>2661</td>\n",
       "      <td>5</td>\n",
       "      <td>2923.0</td>\n",
       "      <td>-8.963394</td>\n",
       "    </tr>\n",
       "    <tr>\n",
       "      <th>2</th>\n",
       "      <td>2019-01-20</td>\n",
       "      <td>27.2</td>\n",
       "      <td>2414</td>\n",
       "      <td>1</td>\n",
       "      <td>2921.0</td>\n",
       "      <td>-17.357069</td>\n",
       "    </tr>\n",
       "    <tr>\n",
       "      <th>3</th>\n",
       "      <td>2019-03-21</td>\n",
       "      <td>25.4</td>\n",
       "      <td>3242</td>\n",
       "      <td>3</td>\n",
       "      <td>2937.0</td>\n",
       "      <td>10.384746</td>\n",
       "    </tr>\n",
       "    <tr>\n",
       "      <th>4</th>\n",
       "      <td>2019-04-15</td>\n",
       "      <td>25.4</td>\n",
       "      <td>2985</td>\n",
       "      <td>4</td>\n",
       "      <td>3027.0</td>\n",
       "      <td>-1.387512</td>\n",
       "    </tr>\n",
       "    <tr>\n",
       "      <th>5</th>\n",
       "      <td>2019-01-24</td>\n",
       "      <td>24.9</td>\n",
       "      <td>3431</td>\n",
       "      <td>1</td>\n",
       "      <td>2921.0</td>\n",
       "      <td>17.459774</td>\n",
       "    </tr>\n",
       "    <tr>\n",
       "      <th>6</th>\n",
       "      <td>2019-02-20</td>\n",
       "      <td>21.6</td>\n",
       "      <td>3183</td>\n",
       "      <td>2</td>\n",
       "      <td>3256.0</td>\n",
       "      <td>-2.242015</td>\n",
       "    </tr>\n",
       "    <tr>\n",
       "      <th>7</th>\n",
       "      <td>2019-05-13</td>\n",
       "      <td>21.3</td>\n",
       "      <td>2877</td>\n",
       "      <td>5</td>\n",
       "      <td>2923.0</td>\n",
       "      <td>-1.573726</td>\n",
       "    </tr>\n",
       "    <tr>\n",
       "      <th>8</th>\n",
       "      <td>2019-02-12</td>\n",
       "      <td>20.6</td>\n",
       "      <td>3036</td>\n",
       "      <td>2</td>\n",
       "      <td>3256.0</td>\n",
       "      <td>-6.756757</td>\n",
       "    </tr>\n",
       "    <tr>\n",
       "      <th>9</th>\n",
       "      <td>2019-02-24</td>\n",
       "      <td>20.6</td>\n",
       "      <td>2654</td>\n",
       "      <td>2</td>\n",
       "      <td>3256.0</td>\n",
       "      <td>-18.488943</td>\n",
       "    </tr>\n",
       "  </tbody>\n",
       "</table>\n",
       "</div>"
      ],
      "text/plain": [
       "         Date  Precipitation  Ride Volume  month  Avg Ride Volume  \\\n",
       "0  2019-05-05           38.9         2767      5           2923.0   \n",
       "1  2019-05-12           37.6         2661      5           2923.0   \n",
       "2  2019-01-20           27.2         2414      1           2921.0   \n",
       "3  2019-03-21           25.4         3242      3           2937.0   \n",
       "4  2019-04-15           25.4         2985      4           3027.0   \n",
       "5  2019-01-24           24.9         3431      1           2921.0   \n",
       "6  2019-02-20           21.6         3183      2           3256.0   \n",
       "7  2019-05-13           21.3         2877      5           2923.0   \n",
       "8  2019-02-12           20.6         3036      2           3256.0   \n",
       "9  2019-02-24           20.6         2654      2           3256.0   \n",
       "\n",
       "   % Change in Rides  \n",
       "0          -5.336983  \n",
       "1          -8.963394  \n",
       "2         -17.357069  \n",
       "3          10.384746  \n",
       "4          -1.387512  \n",
       "5          17.459774  \n",
       "6          -2.242015  \n",
       "7          -1.573726  \n",
       "8          -6.756757  \n",
       "9         -18.488943  "
      ]
     },
     "execution_count": 221,
     "metadata": {},
     "output_type": "execute_result"
    }
   ],
   "source": [
    "# Merge Min Temp and Ride Vol per day\n",
    "min_temp_rides = pd.merge(min_temp_df,ride_volume_per_day_dfrename, how = 'left', on = 'Date')\n",
    "\n",
    "# Merge Avg Ride volume by month\n",
    "min_temp_rides_avg_month = pd.merge(min_temp_rides, avg_vol_month, how = 'left', on = 'month')\n",
    "min_temp_rides_avg_month['% Change in Rides'] = 100 * (min_temp_rides_avg_month['Ride Volume'] - min_temp_rides_avg_month['Avg Ride Volume']) / min_temp_rides_avg_month['Avg Ride Volume']\n",
    "# min_temp_rides_avg_month\n",
    "\n",
    "# Merge Max Temp and Ride Vol per day\n",
    "max_temp_rides = pd.merge(max_temp_df,ride_volume_per_day_dfrename, how = 'left', on = 'Date')\n",
    "\n",
    "# Merge Avg Ride volume by month\n",
    "max_temp_rides_avg_month = pd.merge(max_temp_rides, avg_vol_month, how = 'left', on = 'month')\n",
    "max_temp_rides_avg_month['% Change in Rides'] = 100 * (max_temp_rides_avg_month['Ride Volume'] - max_temp_rides_avg_month['Avg Ride Volume']) / max_temp_rides_avg_month['Avg Ride Volume']\n",
    "# max_temp_rides_avg_month\n",
    "\n",
    "# Merge Min Temp and Ride Vol per day\n",
    "max_rain_rides = pd.merge(max_rain_df,ride_volume_per_day_dfrename, how = 'left', on = 'Date')\n",
    "\n",
    "# Merge Avg Ride volume by month\n",
    "max_rain_rides_avg_month = pd.merge(max_rain_rides, avg_vol_month, how = 'left', on = 'month')\n",
    "max_rain_rides_avg_month['% Change in Rides'] = 100 * (max_rain_rides_avg_month['Ride Volume'] - max_rain_rides_avg_month['Avg Ride Volume']) / max_rain_rides_avg_month['Avg Ride Volume']\n",
    "max_rain_rides_avg_month"
   ]
  },
  {
   "cell_type": "code",
   "execution_count": 225,
   "metadata": {},
   "outputs": [
    {
     "data": {
      "text/plain": [
       "<matplotlib.axes._subplots.AxesSubplot at 0x1d92e602198>"
      ]
     },
     "execution_count": 225,
     "metadata": {},
     "output_type": "execute_result"
    },
    {
     "data": {
      "image/png": "[encoded data removed]",
      "text/plain": [
       "<Figure size 432x288 with 1 Axes>"
      ]
     },
     "metadata": {
      "needs_background": "light"
     },
     "output_type": "display_data"
    },
    {
     "data": {
      "image/png": "[encoded data removed]",
      "text/plain": [
       "<Figure size 432x288 with 1 Axes>"
      ]
     },
     "metadata": {
      "needs_background": "light"
     },
     "output_type": "display_data"
    },
    {
     "data": {
      "image/png": "[encoded data removed]",
      "text/plain": [
       "<Figure size 432x288 with 1 Axes>"
      ]
     },
     "metadata": {
      "needs_background": "light"
     },
     "output_type": "display_data"
    }
   ],
   "source": [
    "min_temp_rides_avg_month.plot.bar(x = 'Date', y = '% Change in Rides', title = 'Min Temps')\n",
    "max_temp_rides_avg_month.plot.bar(x = 'Date', y = '% Change in Rides', title = 'Max Temps')\n",
    "max_rain_rides_avg_month.plot.bar(x = 'Date', y = '% Change in Rides', title = 'Max Rain')"
   ]
  },
  {
   "cell_type": "markdown",
   "metadata": {},
   "source": [
    "## Comments about the above...\n",
    "#### Ride Volume Change for Min Temp\n",
    "* The days that we see a negative decline (1/21 & 1/20) are more than likely due to Martin Luther King Jr. holiday and being a Sunday\n",
    "* We might need to filter out weekends (Sat and/or Sun) if we find that they are contradicting week days\n",
    "\n",
    "#### Ride Volume Change for Max Temp\n",
    "* Same as min temp, we also see the a holiday in the top 10. The sunday before and day of Memorial Day we see drastic declines from the average ride volume\n",
    "* Seeing more and more reason to remove weekends"
   ]
  }
 ],
 "metadata": {
  "kernelspec": {
   "display_name": "Python 3",
   "language": "python",
   "name": "python3"
  },
  "language_info": {
   "codemirror_mode": {
    "name": "ipython",
    "version": 3
   },
   "file_extension": ".py",
   "mimetype": "text/x-python",
   "name": "python",
   "nbconvert_exporter": "python",
   "pygments_lexer": "ipython3",
   "version": "3.6.10"
  }
 },
 "nbformat": 4,
 "nbformat_minor": 4
}
