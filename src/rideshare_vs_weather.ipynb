{
 "cells": [
  {
   "cell_type": "code",
   "execution_count": 1,
   "metadata": {},
   "outputs": [
    {
     "ename": "ModuleNotFoundError",
     "evalue": "No module named 'api_keys'",
     "output_type": "error",
     "traceback": [
      "\u001b[1;31m---------------------------------------------------------------------------\u001b[0m",
      "\u001b[1;31mModuleNotFoundError\u001b[0m                       Traceback (most recent call last)",
      "\u001b[1;32m<ipython-input-1-fbc21a61ab25>\u001b[0m in \u001b[0;36m<module>\u001b[1;34m\u001b[0m\n\u001b[0;32m      9\u001b[0m \u001b[1;33m\u001b[0m\u001b[0m\n\u001b[0;32m     10\u001b[0m \u001b[1;31m# Import API keys\u001b[0m\u001b[1;33m\u001b[0m\u001b[1;33m\u001b[0m\u001b[1;33m\u001b[0m\u001b[0m\n\u001b[1;32m---> 11\u001b[1;33m \u001b[1;32mfrom\u001b[0m \u001b[0mapi_keys\u001b[0m \u001b[1;32mimport\u001b[0m \u001b[0mg_key\u001b[0m\u001b[1;33m\u001b[0m\u001b[1;33m\u001b[0m\u001b[0m\n\u001b[0m\u001b[0;32m     12\u001b[0m \u001b[1;32mfrom\u001b[0m \u001b[0mapi_keys\u001b[0m \u001b[1;32mimport\u001b[0m \u001b[0mmeteostat_api_key\u001b[0m\u001b[1;33m\u001b[0m\u001b[1;33m\u001b[0m\u001b[0m\n\u001b[0;32m     13\u001b[0m \u001b[1;33m\u001b[0m\u001b[0m\n",
      "\u001b[1;31mModuleNotFoundError\u001b[0m: No module named 'api_keys'"
     ]
    }
   ],
   "source": [
    "# Dependencies and Setup\n",
    "import matplotlib.pyplot as plt\n",
    "import pandas as pd\n",
    "import numpy as np\n",
    "import requests\n",
    "import gmaps\n",
    "import os\n",
    "from scipy.stats import linregress\n",
    "\n",
    "# Import API keys\n",
    "from api_keys import g_key\n",
    "from api_keys import meteostat_api_key\n",
    "\n",
    "gmaps.configure(api_key=g_key)"
   ]
  },
  {
   "cell_type": "code",
   "execution_count": null,
   "metadata": {},
   "outputs": [],
   "source": [
    "#importing Yellow Cab Taxi Ride data from .csv\n",
    "# PULocationID = Pickup Location ID\n",
    "# DOLocationID = Drop-off Location ID\n",
    "\n",
    "# Contains the info for every taxi cab ride in New York City in January 2019\n",
    "\n",
    "taxi_data = pd.read_csv(\"../resources/taxi_data/combined_months.csv\")\n",
    "\n",
    "# Contains each official Taxi Pickup Zone in NYC \n",
    "\n",
    "pickup_zone_data = pd.read_csv(\"../resources/taxi_data/nyc_pickup_zones.csv\")\n",
    "pickup_zone_data = pickup_zone_data.rename(columns={'OBJECTID': 'PULocationID'})"
   ]
  },
  {
   "cell_type": "code",
   "execution_count": null,
   "metadata": {},
   "outputs": [],
   "source": [
    "# Setting up the Pickup Zone Name column\n",
    "taxi_data['Pickup Zone Name'] = \"\"\n",
    "\n",
    "# Merging the 'taxi_data' and 'pickup_zone_data' on PULocationID (aka Zone ID)\n",
    "# This is essentially grabbing the PULocationID from 'taxi_data' and finding it's name in 'pickup_zone_data'\n",
    "merged_taxi_zones = pd.merge(taxi_data,pickup_zone_data, how='inner',on=\"PULocationID\")\n",
    "\n",
    "\n",
    "\n",
    "# Filtering the 'merged_taxi_zones' dataframe so it only include rides that happened in Manhattan\n",
    "manhattan_taxi_zones = merged_taxi_zones[(merged_taxi_zones['borough']=='Manhattan')]\n",
    "manhattan_taxi_zones\n",
    "\n",
    "\n",
    "# counting the number of pickups in each pickup zone\n",
    "pickup_zone_counts = manhattan_taxi_zones['zone'].value_counts()\n",
    "#pickup_zone_counts\n",
    "\n",
    "manhattan_taxi_zones"
   ]
  },
  {
   "cell_type": "code",
   "execution_count": null,
   "metadata": {},
   "outputs": [],
   "source": []
  },
  {
   "cell_type": "code",
   "execution_count": null,
   "metadata": {},
   "outputs": [],
   "source": []
  }
 ],
 "metadata": {
  "kernelspec": {
   "display_name": "Python 3",
   "language": "python",
   "name": "python3"
  },
  "language_info": {
   "codemirror_mode": {
    "name": "ipython",
    "version": 3
   },
   "file_extension": ".py",
   "mimetype": "text/x-python",
   "name": "python",
   "nbconvert_exporter": "python",
   "pygments_lexer": "ipython3",
   "version": "3.6.10"
  }
 },
 "nbformat": 4,
 "nbformat_minor": 4
}
